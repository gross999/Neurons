{
 "cells": [
  {
   "cell_type": "code",
   "execution_count": 1,
   "id": "482b56fd-849f-4142-bdf7-2355d7427b01",
   "metadata": {},
   "outputs": [],
   "source": [
    "from time import time\n",
    "import numpy as np \n",
    "import pandas as pd \n",
    "\n",
    "import re\n",
    "import nltk\n",
    "from nltk.corpus import stopwords\n",
    "from gensim.models import word2vec\n",
    "\n",
    "from sklearn.neural_network import MLPClassifier\n",
    "from sklearn.model_selection import train_test_split"
   ]
  },
  {
   "cell_type": "code",
   "execution_count": 2,
   "id": "44327d2a-b0da-4a80-8c25-5ea272d83c2f",
   "metadata": {},
   "outputs": [
    {
     "name": "stdout",
     "output_type": "stream",
     "text": [
      "В наборе предложений: \n",
      " 14412\n"
     ]
    }
   ],
   "source": [
    "df = pd.read_csv(\"./data/labeled_rutoxic.csv\", delimiter=',', header=0, names=['sentence', 'label'])\n",
    "\n",
    "print('В наборе предложений: \\n',df.shape[0])"
   ]
  },
  {
   "cell_type": "code",
   "execution_count": 3,
   "id": "e5f651c3-a790-40d9-901f-3d49c5d672aa",
   "metadata": {},
   "outputs": [
    {
     "name": "stdout",
     "output_type": "stream",
     "text": [
      "toxic: 4826\n",
      "not toxic: 9586\n"
     ]
    }
   ],
   "source": [
    "print('toxic:', df[df['label'] > 0]['label'].count())\n",
    "print('not toxic:', df[df['label'] < 1]['label'].count())"
   ]
  },
  {
   "cell_type": "markdown",
   "id": "a2cd8300-5eeb-4bb3-bbe1-d5264483c74b",
   "metadata": {},
   "source": [
    "## Разбиение на тестовые и обучающие"
   ]
  },
  {
   "cell_type": "code",
   "execution_count": 4,
   "id": "fffe44dd-9d8c-4393-84c4-234e2b6acdd0",
   "metadata": {},
   "outputs": [],
   "source": [
    "X = df.iloc[:,0]# \n",
    "y = df.iloc[:,1]# \n",
    "\n",
    "train , test , y_train, y_test = train_test_split(X, y, test_size=0.3) # и отдаем 30% на тест, остальное на обучен"
   ]
  },
  {
   "cell_type": "markdown",
   "id": "2b1eb41e-b113-4013-9cdc-cb71afaa3af7",
   "metadata": {},
   "source": [
    "## Обучение модели Word2Vec"
   ]
  },
  {
   "cell_type": "code",
   "execution_count": 5,
   "id": "2c41623a-ee01-455e-818b-753fd394c2ce",
   "metadata": {},
   "outputs": [
    {
     "name": "stdout",
     "output_type": "stream",
     "text": [
      "1931     [18, смотрел, их, прям, пиздец, мелким, они, в...\n",
      "2066     [пыня, тоже, геноцидил, чеченцев, во, вторую, ...\n",
      "13775                    [санкции, полезные, так, полезны]\n",
      "Name: sentence, dtype: object\n"
     ]
    }
   ],
   "source": [
    "# Метод преобразования текста в слова\n",
    "def text_to_words(raw_text, remove_stopwords=False):\n",
    "   \n",
    "    letters_only = re.sub(\"[^0-9а-яА-Я]\", \" \", raw_text)\n",
    "    words = letters_only.lower().split()\n",
    "    if remove_stopwords:\n",
    "        stops = set(stopwords.words(\"russian\"))\n",
    "        meaningful_words = [w for w in words if not w in stops]\n",
    "        words = meaningful_words\n",
    "    return words \n",
    "\n",
    "sentences_train = train.apply(text_to_words, remove_stopwords=False)\n",
    "sentences_test = test.apply(text_to_words, remove_stopwords=False)\n",
    "print(sentences_train[:3])"
   ]
  },
  {
   "cell_type": "code",
   "execution_count": 6,
   "id": "00c38fd3-7566-4a1c-abac-1d05e50279c2",
   "metadata": {},
   "outputs": [
    {
     "name": "stdout",
     "output_type": "stream",
     "text": [
      "Time to build vocab: 0.0 mins\n"
     ]
    },
    {
     "name": "stderr",
     "output_type": "stream",
     "text": [
      "C:\\Users\\gross\\AppData\\Local\\Temp\\ipykernel_2684\\2841341794.py:9: DeprecationWarning: Call to deprecated `init_sims` (Gensim 4.0.0 implemented internal optimizations that make calls to init_sims() unnecessary. init_sims() is now obsoleted and will be completely removed in future versions. See https://github.com/RaRe-Technologies/gensim/wiki/Migrating-from-Gensim-3.x-to-4).\n",
      "  model.init_sims(replace=True)\n"
     ]
    }
   ],
   "source": [
    "\n",
    "num_features = 300                \n",
    "min_word_count = 40                     \n",
    "num_workers = 4      \n",
    "context = 20                                                                                        \n",
    "downsampling = 1e-3  \n",
    "model = word2vec.Word2Vec(sentences_train, workers=num_workers, vector_size=num_features, min_count = min_word_count, window = context, sample = downsampling)\n",
    "\n",
    "t = time()\n",
    "model.init_sims(replace=True) \n",
    "print('Time to build vocab: {} mins'.format(round((time() - t) / 60, 2)))\n"
   ]
  },
  {
   "cell_type": "code",
   "execution_count": 7,
   "id": "19878cb6-5b6b-460d-a3a2-b76bf871ad70",
   "metadata": {},
   "outputs": [],
   "source": [
    "# получение векторного представления\n",
    "def makeFeatureVec(words, model, num_features):\n",
    "    featureVec = np.zeros((num_features,), dtype=\"float32\")\n",
    "    nwords = 0\n",
    "\n",
    "    index2word_set = set(model.wv.index_to_key)\n",
    "   \n",
    "    for word in words:\n",
    "        if word in index2word_set: \n",
    "            nwords = nwords + 1\n",
    "            featureVec = np.add(featureVec, model.wv[word])\n",
    "\n",
    "    if nwords == 0:\n",
    "        nwords = 1\n",
    "    featureVec = np.divide(featureVec, nwords)\n",
    "    return featureVec\n",
    "\n",
    "# получение среднего векторного простнраства для предложения\n",
    "def getAvgFeatureVecs(reviews, model, num_features):\n",
    "    reviewFeatureVecs = np.zeros((len(reviews), num_features), dtype=\"float32\")\n",
    "    counter = 0\n",
    "    for review in reviews:\n",
    "        reviewFeatureVecs[counter] = makeFeatureVec(review, model, num_features)\n",
    "        counter = counter + 1\n",
    "    return reviewFeatureVecs\n",
    "\n",
    "f_matrix_train = getAvgFeatureVecs(sentences_train, model, num_features)\n",
    "f_matrix_test = getAvgFeatureVecs(sentences_test, model, num_features)"
   ]
  },
  {
   "cell_type": "markdown",
   "id": "8e959839-f5b5-4df6-aaa3-cb9f45b77ee4",
   "metadata": {},
   "source": [
    "## Создание обучение  MLPClassifier"
   ]
  },
  {
   "cell_type": "code",
   "execution_count": 8,
   "id": "459acb4f-d2b4-4b83-a3eb-7d3fe381ca61",
   "metadata": {},
   "outputs": [
    {
     "name": "stdout",
     "output_type": "stream",
     "text": [
      "[MLPClassifier(hidden_layer_sizes=(300, 40, 30), random_state=1)]\n"
     ]
    }
   ],
   "source": [
    "model = []\n",
    "\n",
    "m = MLPClassifier(solver='adam', hidden_layer_sizes=(300,40,30), random_state=1)\n",
    "model.append(m)\n",
    "\n",
    "print(model)"
   ]
  },
  {
   "cell_type": "code",
   "execution_count": 9,
   "id": "55185a4e-8a2b-4729-92df-d8e317225e6e",
   "metadata": {},
   "outputs": [
    {
     "name": "stdout",
     "output_type": "stream",
     "text": [
      "done\n"
     ]
    }
   ],
   "source": [
    "batch_size = 200\n",
    "total_rows = f_matrix_train.shape[0]\n",
    "duration = 0\n",
    "start_train = time()\n",
    "pos = 0\n",
    "classes = [0.0, 1.0]\n",
    "while duration < 10 and pos < total_rows:\n",
    "    if pos+batch_size > total_rows:\n",
    "        batch_size = total_rows-pos\n",
    "    X_p = f_matrix_train[pos:pos+batch_size]\n",
    "    y_p = y_train.values[pos:pos+batch_size]\n",
    "    model[0].partial_fit(X_p, y_p, classes)\n",
    "    pos = pos + batch_size\n",
    "    duration = time() - start_train\n",
    "    if pos == total_rows:\n",
    "        pos = 0\n",
    "        batch_size = 10000\n",
    "print('done')"
   ]
  },
  {
   "cell_type": "code",
   "execution_count": 10,
   "id": "e8b92fbe-a820-4bfc-9c77-10cbd0e480f7",
   "metadata": {},
   "outputs": [],
   "source": [
    "## Сохранение результатов и расчет ошибки"
   ]
  },
  {
   "cell_type": "code",
   "execution_count": 11,
   "id": "fd06d6db-e108-4fb6-92e8-fb9166d6432f",
   "metadata": {},
   "outputs": [
    {
     "name": "stdout",
     "output_type": "stream",
     "text": [
      "count test values 4324\n",
      "sum_errors 733.0\n"
     ]
    }
   ],
   "source": [
    "y_test_values=y_test.values\n",
    "predicted_results = model[0].predict_proba(f_matrix_test)\n",
    "predicted_results = np.where(predicted_results[:,0]>predicted_results[:,1], 0.0,1.0)\n",
    "\n",
    "sum_errors =sum(y_test_values - predicted_results)\n",
    "print('count test values', len(y_test_values))\n",
    "print('sum_errors', sum_errors)\n"
   ]
  },
  {
   "cell_type": "code",
   "execution_count": 12,
   "id": "62cb7b25-995e-4b15-a998-9710afb0d3ff",
   "metadata": {},
   "outputs": [],
   "source": [
    "saved_result = pd.DataFrame({'text':test.values,\n",
    " 'expected':  y_test_values,\n",
    " 'predicted': predicted_results})"
   ]
  },
  {
   "cell_type": "code",
   "execution_count": 13,
   "id": "8aa3432d-e4cb-4d82-9541-70ff693f9489",
   "metadata": {},
   "outputs": [],
   "source": [
    "saved_result.to_csv('result.csv', encoding='utf-8', index=False)"
   ]
  },
  {
   "cell_type": "code",
   "execution_count": null,
   "id": "877435ef-e795-4995-91ff-bf3dcc61c2f1",
   "metadata": {},
   "outputs": [],
   "source": []
  }
 ],
 "metadata": {
  "kernelspec": {
   "display_name": "Python 3 (ipykernel)",
   "language": "python",
   "name": "python3"
  },
  "language_info": {
   "codemirror_mode": {
    "name": "ipython",
    "version": 3
   },
   "file_extension": ".py",
   "mimetype": "text/x-python",
   "name": "python",
   "nbconvert_exporter": "python",
   "pygments_lexer": "ipython3",
   "version": "3.11.5"
  }
 },
 "nbformat": 4,
 "nbformat_minor": 5
}

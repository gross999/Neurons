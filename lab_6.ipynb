{
 "cells": [
  {
   "cell_type": "code",
   "execution_count": 1,
   "id": "482b56fd-849f-4142-bdf7-2355d7427b01",
   "metadata": {},
   "outputs": [],
   "source": [
    "from time import time\n",
    "import numpy as np \n",
    "import pandas as pd \n",
    "\n",
    "import re\n",
    "import nltk\n",
    "from nltk.corpus import stopwords\n",
    "from gensim.models import word2vec\n",
    "\n",
    "from sklearn.neural_network import MLPClassifier\n",
    "from sklearn.model_selection import train_test_split"
   ]
  },
  {
   "cell_type": "code",
   "execution_count": 2,
   "id": "44327d2a-b0da-4a80-8c25-5ea272d83c2f",
   "metadata": {},
   "outputs": [
    {
     "name": "stdout",
     "output_type": "stream",
     "text": [
      "В наборе предложений: \n",
      " 14412\n"
     ]
    }
   ],
   "source": [
    "df = pd.read_csv(\"labeled_rutoxic.csv\", delimiter=',', header=0, names=['sentence', 'label'])\n",
    "\n",
    "print('В наборе предложений: \\n',df.shape[0])"
   ]
  },
  {
   "cell_type": "code",
   "execution_count": 3,
   "id": "e5f651c3-a790-40d9-901f-3d49c5d672aa",
   "metadata": {},
   "outputs": [
    {
     "name": "stdout",
     "output_type": "stream",
     "text": [
      "toxic: 4826\n",
      "not toxic: 9586\n"
     ]
    }
   ],
   "source": [
    "print('toxic:', df[df['label'] > 0]['label'].count())\n",
    "print('not toxic:', df[df['label'] < 1]['label'].count())"
   ]
  },
  {
   "cell_type": "markdown",
   "id": "a2cd8300-5eeb-4bb3-bbe1-d5264483c74b",
   "metadata": {},
   "source": [
    "## Разбиение на тестовые и обучающие"
   ]
  },
  {
   "cell_type": "code",
   "execution_count": 4,
   "id": "fffe44dd-9d8c-4393-84c4-234e2b6acdd0",
   "metadata": {},
   "outputs": [],
   "source": [
    "X = df.iloc[:,0]# \n",
    "y = df.iloc[:,1]# \n",
    "\n",
    "train , test , y_train, y_test = train_test_split(X, y, test_size=0.3) # и отдаем 30% на тест, остальное на обучен"
   ]
  },
  {
   "cell_type": "markdown",
   "id": "2b1eb41e-b113-4013-9cdc-cb71afaa3af7",
   "metadata": {},
   "source": [
    "## Обучение модели Word2Vec"
   ]
  },
  {
   "cell_type": "code",
   "execution_count": 5,
   "id": "2c41623a-ee01-455e-818b-753fd394c2ce",
   "metadata": {},
   "outputs": [
    {
     "name": "stdout",
     "output_type": "stream",
     "text": [
      "10101    [в, магазине, 15, касс, и, все, работают]\n",
      "Name: sentence, dtype: object\n"
     ]
    }
   ],
   "source": [
    "# Метод преобразования текста в слова\n",
    "def text_to_words(raw_text, remove_stopwords=False):\n",
    "   \n",
    "    letters_only = re.sub(\"[^0-9а-яА-Я]\", \" \", raw_text)\n",
    "    words = letters_only.lower().split()\n",
    "    if remove_stopwords:\n",
    "        stops = set(stopwords.words(\"russian\"))\n",
    "        meaningful_words = [w for w in words if not w in stops]\n",
    "        words = meaningful_words\n",
    "    return words \n",
    "\n",
    "sentences_train = train.apply(text_to_words, remove_stopwords=False)\n",
    "sentences_test = test.apply(text_to_words, remove_stopwords=False)\n",
    "print(sentences_train[:1])"
   ]
  },
  {
   "cell_type": "code",
   "execution_count": 6,
   "id": "00c38fd3-7566-4a1c-abac-1d05e50279c2",
   "metadata": {},
   "outputs": [
    {
     "name": "stdout",
     "output_type": "stream",
     "text": [
      "Time to build vocab: 0.0 mins\n"
     ]
    },
    {
     "name": "stderr",
     "output_type": "stream",
     "text": [
      "C:\\Users\\gross\\AppData\\Local\\Temp\\ipykernel_13480\\2841341794.py:9: DeprecationWarning: Call to deprecated `init_sims` (Gensim 4.0.0 implemented internal optimizations that make calls to init_sims() unnecessary. init_sims() is now obsoleted and will be completely removed in future versions. See https://github.com/RaRe-Technologies/gensim/wiki/Migrating-from-Gensim-3.x-to-4).\n",
      "  model.init_sims(replace=True)\n"
     ]
    }
   ],
   "source": [
    "\n",
    "num_features = 300                \n",
    "min_word_count = 40                     \n",
    "num_workers = 4      \n",
    "context = 20                                                                                        \n",
    "downsampling = 1e-3  \n",
    "model = word2vec.Word2Vec(sentences_train, workers=num_workers, vector_size=num_features, min_count = min_word_count, window = context, sample = downsampling)\n",
    "\n",
    "t = time()\n",
    "model.init_sims(replace=True) \n",
    "print('Time to build vocab: {} mins'.format(round((time() - t) / 60, 2)))\n"
   ]
  },
  {
   "cell_type": "code",
   "execution_count": 7,
   "id": "19878cb6-5b6b-460d-a3a2-b76bf871ad70",
   "metadata": {},
   "outputs": [
    {
     "name": "stdout",
     "output_type": "stream",
     "text": [
      "[ 1.22797564e-02  1.00694202e-01 -1.55817959e-02  5.09373434e-02\n",
      "  7.47452443e-03 -1.30126879e-01  4.61097322e-02  1.69293433e-01\n",
      "  3.32843629e-03 -7.33366981e-02 -4.55685100e-03 -6.90163374e-02\n",
      "  3.06101441e-02 -1.48919420e-02 -5.88536859e-02 -1.06256522e-01\n",
      "  4.09237072e-02  1.79147869e-02  6.70788661e-02 -1.57195441e-02\n",
      " -3.78481969e-02 -7.59452432e-02  2.90623959e-02  3.96989062e-02\n",
      "  3.81834693e-02 -5.57479337e-02 -1.28999144e-01 -3.11287753e-02\n",
      " -6.17939159e-02 -4.79364395e-02  1.96185317e-02 -9.17814597e-02\n",
      "  7.49859959e-02 -1.36337858e-02 -3.14146914e-02  3.35382186e-02\n",
      "  9.78233479e-03 -9.06202048e-02 -2.21713148e-02  1.15315020e-02\n",
      " -4.06706408e-02  2.87830196e-02 -5.19797280e-02 -3.25058363e-02\n",
      "  1.60648003e-02  8.65984708e-02 -1.59603097e-02  1.73982885e-02\n",
      "  1.93748511e-02  4.76965047e-02  4.74498458e-02 -1.25044063e-02\n",
      " -4.50505055e-02  6.30372379e-04  5.94289089e-03  7.46942386e-02\n",
      "  3.01601104e-02 -3.79205570e-02 -1.06896870e-02 -2.11461000e-02\n",
      " -5.50598279e-02 -1.67070478e-02 -3.53740565e-02  7.45806172e-02\n",
      " -3.54554839e-02  5.05391583e-02  1.38189476e-02  2.29905639e-02\n",
      " -4.86165099e-02  1.47240851e-02  1.40367765e-02  3.67851779e-02\n",
      "  6.37216344e-02 -5.30973375e-02  2.28049606e-02 -1.40562281e-02\n",
      " -8.37684050e-02  7.86377769e-03 -3.12008206e-02  3.79641727e-02\n",
      " -1.50441108e-02 -7.15308934e-02  4.25905967e-03  9.63424891e-02\n",
      "  1.54287741e-02 -3.58917192e-02 -1.11404777e-01 -8.99659190e-03\n",
      "  6.16737716e-02  3.18955518e-02  4.39995602e-02 -1.39083583e-02\n",
      " -8.66318122e-04 -1.01515185e-02  2.92417109e-02  8.52023885e-02\n",
      "  1.75686665e-02 -3.24316397e-02  1.61364060e-02  1.57167446e-02\n",
      " -7.78837362e-03 -2.09048204e-02  2.61132866e-02  2.50000656e-02\n",
      "  1.27456710e-02 -3.30387726e-02 -2.95976102e-02  1.16485007e-05\n",
      " -7.50180110e-02  3.57207246e-02 -7.26318583e-02 -5.30909598e-02\n",
      " -2.69949231e-02  4.89341840e-02  1.21165523e-02  2.78247707e-02\n",
      " -1.07742716e-02  3.71236959e-03  6.02503046e-02 -2.52139121e-02\n",
      "  2.29004025e-02  3.89467478e-02  4.38214466e-02 -1.68054476e-02\n",
      " -1.22189801e-02  5.59672937e-02 -1.76079382e-04 -3.34761105e-02\n",
      "  1.00768562e-02  3.96122076e-02  2.53699757e-02  5.18970713e-02\n",
      "  8.88500921e-03 -5.18218391e-02  2.14601867e-02  4.17044535e-02\n",
      " -4.25444208e-02 -2.44362857e-02 -7.65961558e-02 -8.38590413e-02\n",
      " -1.17749721e-02 -5.16853109e-02  3.02945785e-02  2.42852718e-02\n",
      "  1.85413547e-02 -6.51065856e-02 -3.68462838e-02 -3.94345336e-02\n",
      "  1.95582882e-02 -1.92978047e-02 -3.27412710e-02 -1.22522093e-01\n",
      " -9.13501978e-02 -4.99853976e-02  3.36793959e-02  9.51630995e-03\n",
      " -5.95858209e-02 -1.71426572e-02 -1.22065889e-03  8.21667835e-02\n",
      " -2.85781417e-02  7.80263683e-03 -7.56892189e-02  4.72023264e-02\n",
      " -7.69198462e-02  3.48061509e-02 -1.18766623e-02 -2.17499938e-02\n",
      "  1.37372855e-02  1.05280474e-01 -6.72433302e-02  2.05678977e-02\n",
      "  7.36006126e-02  2.18797475e-02  2.16726866e-02 -5.99055365e-03\n",
      " -2.05298839e-03 -3.39708254e-02 -1.33290756e-02  1.87930502e-02\n",
      " -2.51048207e-02  4.24922518e-02 -2.34069228e-02 -4.37190458e-02\n",
      " -1.18334992e-02  2.08873861e-02  4.83072698e-02  8.84413868e-02\n",
      "  4.34494466e-02 -6.48845583e-02 -2.86444509e-03  7.95304589e-03\n",
      " -8.58398303e-02  2.32479908e-02  2.45190077e-02 -6.26658648e-02\n",
      "  2.57035140e-02 -3.26340497e-02  4.23635766e-02 -1.16185416e-02\n",
      " -9.77146998e-02  1.79061703e-02  7.48354709e-03 -1.14750126e-02\n",
      " -2.23902110e-02 -1.64640732e-02 -5.92417344e-02  3.69479135e-02\n",
      "  9.07655992e-03 -3.40214409e-02 -7.35635683e-03 -1.03406636e-02\n",
      " -5.62374890e-02 -4.12253067e-02  1.51542891e-02 -1.08891979e-01\n",
      " -5.23615889e-02 -1.31593898e-01 -1.05918780e-01 -2.49051563e-02\n",
      "  1.57097243e-02  1.33616775e-02 -5.39659858e-02 -1.89960897e-02\n",
      " -3.64736542e-02 -6.55880943e-02 -1.27339605e-02  1.08125377e-02\n",
      " -9.05530602e-02  3.44279632e-02  2.30261534e-02 -6.27181306e-02\n",
      " -6.79018069e-03  4.59532961e-02 -1.60656665e-02  2.92772464e-02\n",
      "  4.01210412e-02 -2.83466578e-02 -1.21119223e-03 -9.06125307e-02\n",
      "  1.36620672e-02 -6.50678724e-02  1.86548941e-02  1.31494943e-02\n",
      "  1.50999632e-02 -5.89881167e-02  2.23115906e-02  2.38635428e-02\n",
      "  2.63185501e-02  4.33333926e-02  2.59958301e-02  9.84648988e-03\n",
      "  1.51019795e-02  1.57971736e-02 -1.12379692e-01 -4.05742303e-02\n",
      "  1.13749906e-01 -6.87322929e-04 -1.21789694e-01 -4.24445160e-02\n",
      "  4.61611860e-02  6.27115220e-02  2.29501519e-02 -9.95259061e-02\n",
      " -6.39052987e-02 -3.89486621e-03  5.04413135e-02  4.10080366e-02\n",
      " -1.47096710e-02  2.49013845e-02 -2.78520994e-02 -8.06615315e-03\n",
      "  2.79744919e-02  1.09881256e-02  7.78890997e-02  5.91458194e-02\n",
      "  4.97293882e-02  2.42832564e-02 -5.49207516e-02 -6.63091615e-02\n",
      "  3.14491913e-02 -1.23990048e-02 -5.73953018e-02  3.46002802e-02\n",
      "  3.37719694e-02  2.68246885e-02 -7.75511637e-02  5.72786555e-02\n",
      " -6.06407179e-03  4.88482043e-02  3.36492131e-03  1.18398130e-01\n",
      "  4.11856063e-02  2.81989574e-02  4.09309827e-02  1.58517361e-01\n",
      "  1.14717688e-02 -3.15257907e-02  2.67007109e-02 -4.45576124e-02]\n"
     ]
    }
   ],
   "source": [
    "# получение векторного представления\n",
    "def makeFeatureVec(words, model, num_features):\n",
    "    featureVec = np.zeros((num_features,), dtype=\"float32\")\n",
    "    nwords = 0\n",
    "\n",
    "    index2word_set = set(model.wv.index_to_key)\n",
    "   \n",
    "    for word in words:\n",
    "        if word in index2word_set: \n",
    "            nwords = nwords + 1\n",
    "            featureVec = np.add(featureVec, model.wv[word])\n",
    "\n",
    "    if nwords == 0:\n",
    "        nwords = 1\n",
    "    featureVec = np.divide(featureVec, nwords)\n",
    "    return featureVec\n",
    "\n",
    "# получение среднего векторного простнраства для предложения\n",
    "def getAvgFeatureVecs(reviews, model, num_features):\n",
    "    reviewFeatureVecs = np.zeros((len(reviews), num_features), dtype=\"float32\")\n",
    "    counter = 0\n",
    "    for review in reviews:\n",
    "        reviewFeatureVecs[counter] = makeFeatureVec(review, model, num_features)\n",
    "        counter = counter + 1\n",
    "    return reviewFeatureVecs\n",
    "\n",
    "f_matrix_train = getAvgFeatureVecs(sentences_train, model, num_features)\n",
    "f_matrix_test = getAvgFeatureVecs(sentences_test, model, num_features)\n",
    "print(f_matrix_train[0,:])"
   ]
  },
  {
   "cell_type": "markdown",
   "id": "8e959839-f5b5-4df6-aaa3-cb9f45b77ee4",
   "metadata": {},
   "source": [
    "## Создание обучение  MLPClassifier"
   ]
  },
  {
   "cell_type": "code",
   "execution_count": 8,
   "id": "459acb4f-d2b4-4b83-a3eb-7d3fe381ca61",
   "metadata": {},
   "outputs": [
    {
     "name": "stdout",
     "output_type": "stream",
     "text": [
      "[MLPClassifier(hidden_layer_sizes=(300, 40, 30), random_state=1)]\n"
     ]
    }
   ],
   "source": [
    "model = []\n",
    "\n",
    "m = MLPClassifier(solver='adam', hidden_layer_sizes=(300,40,30), random_state=1)\n",
    "model.append(m)\n",
    "\n",
    "print(model)"
   ]
  },
  {
   "cell_type": "code",
   "execution_count": 9,
   "id": "55185a4e-8a2b-4729-92df-d8e317225e6e",
   "metadata": {},
   "outputs": [
    {
     "name": "stdout",
     "output_type": "stream",
     "text": [
      "done\n"
     ]
    }
   ],
   "source": [
    "batch_size = 200\n",
    "total_rows = f_matrix_train.shape[0]\n",
    "duration = 0\n",
    "start_train = time()\n",
    "pos = 0\n",
    "classes = [0.0, 1.0]\n",
    "while duration < 10 and pos < total_rows:\n",
    "    if pos+batch_size > total_rows:\n",
    "        batch_size = total_rows-pos\n",
    "    X_p = f_matrix_train[pos:pos+batch_size]\n",
    "    y_p = y_train.values[pos:pos+batch_size]\n",
    "    model[0].partial_fit(X_p, y_p, classes)\n",
    "    pos = pos + batch_size\n",
    "    duration = time() - start_train\n",
    "    if pos == total_rows:\n",
    "        pos = 0\n",
    "        batch_size = 10000\n",
    "print('done')"
   ]
  },
  {
   "cell_type": "code",
   "execution_count": 10,
   "id": "e8b92fbe-a820-4bfc-9c77-10cbd0e480f7",
   "metadata": {},
   "outputs": [],
   "source": [
    "## Сохранение результатов и расчет ошибки"
   ]
  },
  {
   "cell_type": "code",
   "execution_count": 11,
   "id": "fd06d6db-e108-4fb6-92e8-fb9166d6432f",
   "metadata": {},
   "outputs": [
    {
     "name": "stdout",
     "output_type": "stream",
     "text": [
      "count test values 4324\n",
      "sum_errors 876.0\n"
     ]
    }
   ],
   "source": [
    "y_test_values=y_test.values\n",
    "predicted_results = model[0].predict_proba(f_matrix_test)\n",
    "predicted_results = np.where(predicted_results[:,0]>predicted_results[:,1], 0.0,1.0)\n",
    "\n",
    "sum_errors =sum(y_test_values - predicted_results)\n",
    "print('count test values', len(y_test_values))\n",
    "print('sum_errors', sum_errors)\n"
   ]
  },
  {
   "cell_type": "code",
   "execution_count": 12,
   "id": "62cb7b25-995e-4b15-a998-9710afb0d3ff",
   "metadata": {},
   "outputs": [],
   "source": [
    "saved_result = pd.DataFrame({'text':test.values,\n",
    " 'expected':  y_test_values,\n",
    " 'predicted': predicted_results})"
   ]
  },
  {
   "cell_type": "code",
   "execution_count": 13,
   "id": "8aa3432d-e4cb-4d82-9541-70ff693f9489",
   "metadata": {},
   "outputs": [],
   "source": [
    "saved_result.to_csv('result.csv', encoding='utf-8', index=False)"
   ]
  }
 ],
 "metadata": {
  "kernelspec": {
   "display_name": "Python 3 (ipykernel)",
   "language": "python",
   "name": "python3"
  },
  "language_info": {
   "codemirror_mode": {
    "name": "ipython",
    "version": 3
   },
   "file_extension": ".py",
   "mimetype": "text/x-python",
   "name": "python",
   "nbconvert_exporter": "python",
   "pygments_lexer": "ipython3",
   "version": "3.11.5"
  }
 },
 "nbformat": 4,
 "nbformat_minor": 5
}
